{
 "cells": [
  {
   "cell_type": "code",
   "execution_count": null,
   "id": "3a67d7ad",
   "metadata": {
    "tags": [
     "parameters"
    ]
   },
   "outputs": [],
   "source": [
    "# papermill parameters\n",
    "aid = 'interactive'\n",
    "print(f'aid={aid}')"
   ]
  },
  {
   "cell_type": "code",
   "execution_count": null,
   "id": "3daef5fd",
   "metadata": {},
   "outputs": [],
   "source": [
    "import torch\n",
    "import torchvision.transforms as transforms\n",
    "from torch.utils.data import DataLoader\n",
    "import torchvision.datasets as datasets\n",
    "import torchvision.models as models\n",
    "from torch import nn\n",
    "from torch import optim\n",
    "\n",
    "from tqdm import tqdm\n",
    "import os\n",
    "import numpy as np\n",
    "from PIL import Image\n",
    "import pickle as pkl\n",
    "import matplotlib.pyplot as plt\n",
    "\n",
    "import util\n",
    "from DuckDataset import DuckDataset\n",
    "\n",
    "%load_ext autoreload\n",
    "%autoreload 2"
   ]
  },
  {
   "cell_type": "code",
   "execution_count": null,
   "id": "3b7be2df",
   "metadata": {},
   "outputs": [],
   "source": [
    "device = torch.device('cuda' if torch.cuda.is_available() else 'cpu')\n",
    "print(device)"
   ]
  },
  {
   "cell_type": "markdown",
   "id": "63445aad",
   "metadata": {},
   "source": [
    "## Load data and train a model"
   ]
  },
  {
   "cell_type": "code",
   "execution_count": null,
   "id": "04c32732",
   "metadata": {},
   "outputs": [],
   "source": [
    "# dataset class for the background images\n",
    "class ImageDataset(torch.utils.data.Dataset):\n",
    "    def __init__(self, \n",
    "                 images, \n",
    "                 transform = None,\n",
    "            ):\n",
    "            super(ImageDataset, self).__init__()\n",
    "            self.images = images\n",
    "            self.transform = transform    \n",
    "\n",
    "    def __getitem__(self, index):\n",
    "        assert index < len(self.images), 'Invalid index!'\n",
    "        # get the image\n",
    "        img = self.images[index]\n",
    "        # apply transform\n",
    "        if self.transform is not None:\n",
    "            img = self.transform(img)\n",
    "        return img, 0\n",
    "            \n",
    "    def __len__(self):\n",
    "        return len(self.images)"
   ]
  },
  {
   "cell_type": "code",
   "execution_count": null,
   "id": "d0491f2d",
   "metadata": {},
   "outputs": [],
   "source": [
    "# load training and validation set\n",
    "duckdata_dir = 'data'\n",
    "mode = 'id'\n",
    "\n",
    "if mode == 'id':\n",
    "\n",
    "    trainset = pkl.load(open(f'{duckdata_dir}/duck_train.pkl' , 'rb'))\n",
    "    valset =  pkl.load(open(f'{duckdata_dir}/duck_val.pkl' , 'rb'))\n",
    "\n",
    "    \n",
    "if mode == 'iid': \n",
    "    \n",
    "    train_images = pkl.load(open(f'{duckdata_dir}/imagenet10_train.pkl' , 'rb'))\n",
    "    val_images = pkl.load(open(f'{duckdata_dir}/imagenet10_val.pkl', 'rb'))\n",
    "\n",
    "    background_train = ImageDataset(train_images, transform=transforms.Compose([transforms.RandomResizedCrop(224), \n",
    "                                                                            transforms.RandomHorizontalFlip()]))\n",
    "    background_val = ImageDataset(val_images, transform=transforms.Compose([transforms.RandomResizedCrop(224),\n",
    "                                                                            transforms.RandomHorizontalFlip()]))\n",
    "    \n",
    "    \n",
    "    normalize = transforms.Normalize(mean=[0.485, 0.456, 0.406],\n",
    "                                 std=[0.229, 0.224, 0.225])\n",
    "    random_size = (50, 100)\n",
    "\n",
    "    trainset = DuckDataset(background_train,\n",
    "                           random_size=random_size,\n",
    "                           transform=transforms.Compose([transforms.ToTensor(), normalize]),\n",
    "                           uniform_yellow = False\n",
    "                           )\n",
    "    valset = DuckDataset(background_val,\n",
    "                         random_size=random_size,\n",
    "                         transform=transforms.Compose([transforms.ToTensor(), normalize]),\n",
    "                         uniform_yellow = False\n",
    "                         )\n",
    "    \n",
    "trainloader = DataLoader(trainset, batch_size=64, shuffle=False, num_workers=6)\n",
    "valloader = DataLoader(valset, batch_size=64, shuffle=False, num_workers=6)\n",
    "     "
   ]
  },
  {
   "cell_type": "code",
   "execution_count": null,
   "id": "e6af214c",
   "metadata": {},
   "outputs": [],
   "source": [
    "# specify model\n",
    "\n",
    "net_name = 'resnet18'\n",
    "net = models.resnet18()\n",
    "net.fc = nn.Linear(512, 2) # 2-class problem\n",
    "net.to(device)\n",
    "\n",
    "optimizer = torch.optim.Adam(net.parameters(), 0.001)"
   ]
  },
  {
   "cell_type": "code",
   "execution_count": null,
   "id": "5e05adf1",
   "metadata": {},
   "outputs": [],
   "source": [
    "# train model \n",
    "util.train(net, optimizer, trainloader, valloader, device, 25, eps= 0.005)"
   ]
  },
  {
   "cell_type": "code",
   "execution_count": null,
   "id": "05546f9f",
   "metadata": {},
   "outputs": [],
   "source": [
    "# save model \n",
    "model_dir = 'models'\n",
    "torch.save(net.state_dict(), f'{model_dir}/duck_{mode}_model_{net_name}_{aid}.pkl')"
   ]
  },
  {
   "cell_type": "code",
   "execution_count": null,
   "id": "33eaf5ba",
   "metadata": {},
   "outputs": [],
   "source": [
    "# remove net from gpu\n",
    "net = net.to('cpu')"
   ]
  }
 ],
 "metadata": {
  "kernelspec": {
   "display_name": "Python 3",
   "language": "python",
   "name": "python3"
  },
  "language_info": {
   "codemirror_mode": {
    "name": "ipython",
    "version": 3
   },
   "file_extension": ".py",
   "mimetype": "text/x-python",
   "name": "python",
   "nbconvert_exporter": "python",
   "pygments_lexer": "ipython3",
   "version": "3.7.3"
  }
 },
 "nbformat": 4,
 "nbformat_minor": 5
}
