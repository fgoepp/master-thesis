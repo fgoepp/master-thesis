{
 "cells": [
  {
   "cell_type": "code",
   "execution_count": 2,
   "id": "5e7f0bf9",
   "metadata": {},
   "outputs": [
    {
     "name": "stderr",
     "output_type": "stream",
     "text": [
      "Matplotlib created a temporary config/cache directory at /tmp/matplotlib-9vk1ybjf because the default path (/home/jovyan/.cache/matplotlib) is not a writable directory; it is highly recommended to set the MPLCONFIGDIR environment variable to a writable directory, in particular to speed up the import of Matplotlib and to better support multiprocessing.\n"
     ]
    }
   ],
   "source": [
    "import torch\n",
    "import torchvision.transforms as transforms\n",
    "from torch.utils.data import DataLoader\n",
    "import torchvision.datasets as datasets\n",
    "import torchvision.models as models\n",
    "from torch import nn\n",
    "from torch import optim\n",
    "\n",
    "from tqdm import tqdm\n",
    "import os\n",
    "import numpy as np\n",
    "from PIL import Image\n",
    "import pickle as pkl\n",
    "import matplotlib.pyplot as plt\n",
    "\n",
    "import util\n",
    "from DuckDataset import DuckDataset\n",
    "\n",
    "%load_ext autoreload\n",
    "%autoreload 2"
   ]
  },
  {
   "cell_type": "code",
   "execution_count": 3,
   "id": "75c11a20",
   "metadata": {},
   "outputs": [
    {
     "name": "stdout",
     "output_type": "stream",
     "text": [
      "cuda\n"
     ]
    }
   ],
   "source": [
    "device = torch.device('cuda' if torch.cuda.is_available() else 'cpu')\n",
    "print(device)"
   ]
  },
  {
   "cell_type": "code",
   "execution_count": 4,
   "id": "519c2505",
   "metadata": {},
   "outputs": [],
   "source": [
    "# provide imagenet data here\n",
    "imagenettrain_dir = '/mnt/qb/datasets/ImageNet2012/train/'\n",
    "imagenetval_dir = '/mnt/qb/datasets/ImageNet2012/val/'\n",
    "duckdata_dir = 'data'"
   ]
  },
  {
   "cell_type": "code",
   "execution_count": 4,
   "id": "b21603aa",
   "metadata": {},
   "outputs": [
    {
     "data": {
      "text/plain": [
       "\"\\n\\n# subset of classes\\nfolders = []\\nfor folder in os.listdir('/mnt/qb/datasets/ImageNet2012/train/'):\\n    folders.append(folder)\\nfolders.sort()\\nnp.random.seed(0)\\nfolders = np.random.choice(folders, size=10, replace=False)\\n\\n# train\\nimages = []\\nfor folder in folders:\\n    for file in os.listdir(os.path.join('/mnt/qb/datasets/ImageNet2012/train/', folder)):\\n        images.append(os.path.join('/mnt/qb/datasets/ImageNet2012/train/', folder, file))  \\npil_images = []\\nfor image in tqdm(images):\\n    im = Image.open(image)\\n    im.load()\\n    pil_images.append(im)\\npil_images = [img.convert('RGB') for img in pil_images]\\npkl.dump(pil_images, open('/mnt/qb/luxburg/frieder/imagenet10_train.pkl' , 'wb+'))\\n\\n# val\\nimages = []\\nfor folder in folders:\\n    for file in os.listdir(os.path.join('/mnt/qb/datasets/ImageNet2012/val/', folder)):\\n        images.append(os.path.join('/mnt/qb/datasets/ImageNet2012/val/', folder, file))  \\npil_images = []\\nfor image in tqdm(images):\\n    im = Image.open(image)\\n    im.load()\\n    pil_images.append(im)\\npil_images = [img.convert('RGB') for img in pil_images]\\npkl.dump(pil_images, open('/mnt/qb/luxburg/frieder/imagenet10_val.pkl' , 'wb+'))\\n\\n\""
      ]
     },
     "execution_count": 4,
     "metadata": {},
     "output_type": "execute_result"
    }
   ],
   "source": [
    "# generate background images from a subset of imagenet classes\n",
    "\n",
    "folders = []\n",
    "for folder in os.listdir(imagenettrain_dir):\n",
    "    folders.append(folder)\n",
    "folders.sort()\n",
    "np.random.seed(0)\n",
    "folders = np.random.choice(folders, size=10, replace=False)\n",
    "\n",
    "# train\n",
    "images = []\n",
    "for folder in folders:\n",
    "    for file in os.listdir(os.path.join(imagenettrain_dir, folder)):\n",
    "        images.append(os.path.join(imagenettrain_dir, folder, file))  \n",
    "pil_images = []\n",
    "for image in tqdm(images):\n",
    "    im = Image.open(image)\n",
    "    im.load()\n",
    "    pil_images.append(im)\n",
    "pil_images = [img.convert('RGB') for img in pil_images]\n",
    "pkl.dump(pil_images, open(f'{duckdata_dir}/imagenet10_train.pkl' , 'wb+'))\n",
    "\n",
    "# val\n",
    "images = []\n",
    "for folder in folders:\n",
    "    for file in os.listdir(os.path.join(imagenetval_dir, folder)):\n",
    "        images.append(os.path.join(imagenetval_dir, folder, file))  \n",
    "pil_images = []\n",
    "for image in tqdm(images):\n",
    "    im = Image.open(image)\n",
    "    im.load()\n",
    "    pil_images.append(im)\n",
    "pil_images = [img.convert('RGB') for img in pil_images]\n",
    "pkl.dump(pil_images, open(f'{duckdata_dir}/imagenet10_val.pkl' , 'wb+'))"
   ]
  },
  {
   "cell_type": "code",
   "execution_count": 5,
   "id": "f994e365",
   "metadata": {},
   "outputs": [],
   "source": [
    "# dataset class for the background images\n",
    "class ImageDataset(torch.utils.data.Dataset):\n",
    "    def __init__(self, \n",
    "                 images, \n",
    "                 transform = None,\n",
    "            ):\n",
    "            super(ImageDataset, self).__init__()\n",
    "            self.images = images\n",
    "            self.transform = transform    \n",
    "\n",
    "    def __getitem__(self, index):\n",
    "        assert index < len(self.images), 'Invalid index!'\n",
    "        # get the image\n",
    "        img = self.images[index]\n",
    "        # apply transform\n",
    "        if self.transform is not None:\n",
    "            img = self.transform(img)\n",
    "        return img, 0\n",
    "            \n",
    "    def __len__(self):\n",
    "        return len(self.images)"
   ]
  },
  {
   "cell_type": "code",
   "execution_count": 7,
   "id": "257474ea",
   "metadata": {},
   "outputs": [],
   "source": [
    "# load background images\n",
    "train_images = pkl.load(open(f'{duckdata_dir}/imagenet10_train.pkl' , 'rb'))\n",
    "val_images = pkl.load(open(f'{duckdata_dir}/imagenet10_val.pkl', 'rb'))\n",
    "\n",
    "background_train = ImageDataset(train_images, transform=transforms.Compose([transforms.RandomResizedCrop(224), \n",
    "                                                                            transforms.RandomHorizontalFlip()]))\n",
    "background_val = ImageDataset(val_images, transform=transforms.Compose([transforms.RandomResizedCrop(224),\n",
    "                                                                        transforms.RandomHorizontalFlip()])) \n"
   ]
  },
  {
   "cell_type": "code",
   "execution_count": 8,
   "id": "9612cf82",
   "metadata": {},
   "outputs": [],
   "source": [
    "# generate training and validation set containing ducks\n",
    "\n",
    "normalize = transforms.Normalize(mean=[0.485, 0.456, 0.406],\n",
    "                                 std=[0.229, 0.224, 0.225])\n",
    "random_size = (50, 100)\n",
    "\n",
    "trainset = DuckDataset(background_train,\n",
    "                       random_size=random_size,\n",
    "                       transform=transforms.Compose([transforms.ToTensor(), normalize]),\n",
    "                       uniform_yellow = False\n",
    "                       )\n",
    "valset = DuckDataset(background_val,\n",
    "                     random_size=random_size,\n",
    "                     transform=transforms.Compose([transforms.ToTensor(), normalize]),\n",
    "                     uniform_yellow = False\n",
    "                     )\n",
    "\n",
    "pkl.dump(trainset, open(f'{duckdata_dir}/duck_train.pkl' , 'wb+'))\n",
    "pkl.dump(valset, open(f'{duckdata_dir}/duck_val.pkl' , 'wb+'))\n"
   ]
  },
  {
   "cell_type": "code",
   "execution_count": 12,
   "id": "494589ad",
   "metadata": {},
   "outputs": [],
   "source": [
    "# generate a (reproducible) visualisation data set \n",
    "torch.manual_seed(1)\n",
    "np.random.seed(1)\n",
    "\n",
    "vis_set = DuckDataset(background_val,\n",
    "                      random_size=random_size,\n",
    "                      transform=transforms.ToTensor(),\n",
    "                      uniform_yellow = False\n",
    "                      )\n",
    "\n",
    "pkl.dump(vis_set,open(f'{duckdata_dir}/duck_vis.pkl', 'wb'))"
   ]
  },
  {
   "cell_type": "code",
   "execution_count": 13,
   "id": "aae237b3",
   "metadata": {
    "tags": []
   },
   "outputs": [],
   "source": [
    "# extract images containing a duck\n",
    "\n",
    "imgs, labels, duck_positions, masks = [], [], [], []\n",
    "for _ in range(200):\n",
    "    img, label, duck_position, bgr = vis_set.__draw_random__()\n",
    "    if label == 0:\n",
    "        continue\n",
    "        \n",
    "    mask = img - bgr\n",
    "    mask[mask != 0] = 1\n",
    "    mask = mask.sum(axis = 0)\n",
    "    mask[mask != 0] = 1\n",
    "    \n",
    "    imgs.append(img)\n",
    "    labels.append(label)\n",
    "    duck_positions.append(duck_position)\n",
    "    masks.append(mask)\n",
    "    \n",
    "    examples = (imgs, labels, duck_positions, masks)\n",
    "pkl.dump(examples,open(f'{duckdata_dir}/duck_vis_examples.pkl', 'wb'))"
   ]
  },
  {
   "cell_type": "code",
   "execution_count": null,
   "id": "ab9a25a6",
   "metadata": {},
   "outputs": [],
   "source": []
  }
 ],
 "metadata": {
  "kernelspec": {
   "display_name": "Python 3",
   "language": "python",
   "name": "python3"
  },
  "language_info": {
   "codemirror_mode": {
    "name": "ipython",
    "version": 3
   },
   "file_extension": ".py",
   "mimetype": "text/x-python",
   "name": "python",
   "nbconvert_exporter": "python",
   "pygments_lexer": "ipython3",
   "version": "3.7.3"
  }
 },
 "nbformat": 4,
 "nbformat_minor": 5
}
