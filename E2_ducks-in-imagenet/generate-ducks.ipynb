{
 "cells": [
  {
   "cell_type": "code",
   "execution_count": null,
   "id": "bf6e1e60",
   "metadata": {},
   "outputs": [],
   "source": [
    "import torch\n",
    "import torchvision.transforms as transforms\n",
    "from torch.utils.data import DataLoader\n",
    "import torchvision.datasets as datasets\n",
    "import torchvision.models as models\n",
    "from torch import nn\n",
    "from torch import optim\n",
    "\n",
    "from tqdm import tqdm\n",
    "import os\n",
    "import numpy as np\n",
    "from PIL import Image\n",
    "import pickle as pkl\n",
    "import matplotlib.pyplot as plt\n",
    "\n",
    "import util\n",
    "from DuckDataset import DuckDataset\n",
    "\n",
    "%load_ext autoreload\n",
    "%autoreload 2"
   ]
  },
  {
   "cell_type": "code",
   "execution_count": null,
   "id": "a491dada",
   "metadata": {},
   "outputs": [],
   "source": [
    "device = torch.device('cuda' if torch.cuda.is_available() else 'cpu')\n",
    "print(device)"
   ]
  },
  {
   "cell_type": "code",
   "execution_count": null,
   "id": "d2e8eb03",
   "metadata": {},
   "outputs": [],
   "source": [
    "# provide imagenet data here\n",
    "imagenettrain_dir = '/mnt/qb/datasets/ImageNet2012/train/'\n",
    "imagenetval_dir = '/mnt/qb/datasets/ImageNet2012/val/'\n",
    "\n",
    "duckdata_dir = 'data'"
   ]
  },
  {
   "cell_type": "code",
   "execution_count": null,
   "id": "8a4ba770",
   "metadata": {},
   "outputs": [],
   "source": [
    "# generate background images from a subset of imagenet classes\n",
    "\n",
    "folders = []\n",
    "for folder in os.listdir(imagenettrain_dir):\n",
    "    folders.append(folder)\n",
    "folders.sort()\n",
    "np.random.seed(0)\n",
    "folders = np.random.choice(folders, size=10, replace=False)\n",
    "\n",
    "# train\n",
    "images = []\n",
    "for folder in folders:\n",
    "    for file in os.listdir(os.path.join(imagenettrain_dir, folder)):\n",
    "        images.append(os.path.join(imagenettrain_dir, folder, file))  \n",
    "pil_images = []\n",
    "for image in tqdm(images):\n",
    "    im = Image.open(image)\n",
    "    im.load()\n",
    "    pil_images.append(im)\n",
    "pil_images = [img.convert('RGB') for img in pil_images]\n",
    "pkl.dump(pil_images, open(f'{duckdata_dir}/imagenet10_train.pkl' , 'wb+'))\n",
    "\n",
    "# val\n",
    "images = []\n",
    "for folder in folders:\n",
    "    for file in os.listdir(os.path.join(imagenetval_dir, folder)):\n",
    "        images.append(os.path.join(imagenetval_dir, folder, file))  \n",
    "pil_images = []\n",
    "for image in tqdm(images):\n",
    "    im = Image.open(image)\n",
    "    im.load()\n",
    "    pil_images.append(im)\n",
    "pil_images = [img.convert('RGB') for img in pil_images]\n",
    "pkl.dump(pil_images, open(f'{duckdata_dir}/imagenet10_val.pkl' , 'wb+'))"
   ]
  },
  {
   "cell_type": "code",
   "execution_count": null,
   "id": "fee099d3",
   "metadata": {},
   "outputs": [],
   "source": [
    "# dataset class for the background images\n",
    "class ImageDataset(torch.utils.data.Dataset):\n",
    "    def __init__(self, \n",
    "                 images, \n",
    "                 transform = None,\n",
    "            ):\n",
    "            super(ImageDataset, self).__init__()\n",
    "            self.images = images\n",
    "            self.transform = transform    \n",
    "\n",
    "    def __getitem__(self, index):\n",
    "        assert index < len(self.images), 'Invalid index!'\n",
    "        # get the image\n",
    "        img = self.images[index]\n",
    "        # apply transform\n",
    "        if self.transform is not None:\n",
    "            img = self.transform(img)\n",
    "        return img, 0\n",
    "            \n",
    "    def __len__(self):\n",
    "        return len(self.images)"
   ]
  },
  {
   "cell_type": "code",
   "execution_count": null,
   "id": "0401598d",
   "metadata": {},
   "outputs": [],
   "source": [
    "# load background images\n",
    "train_images = pkl.load(open(f'{duckdata_dir}/imagenet10_train.pkl' , 'rb'))\n",
    "val_images = pkl.load(open(f'{duckdata_dir}/imagenet10_val.pkl', 'rb'))\n",
    "\n",
    "background_train = ImageDataset(train_images, transform=transforms.Compose([transforms.RandomResizedCrop(224), \n",
    "                                                                            transforms.RandomHorizontalFlip()]))\n",
    "background_val = ImageDataset(val_images, transform=transforms.Compose([transforms.RandomResizedCrop(224),\n",
    "                                                                        transforms.RandomHorizontalFlip()])) \n"
   ]
  },
  {
   "cell_type": "code",
   "execution_count": null,
   "id": "0f9c4e83",
   "metadata": {},
   "outputs": [],
   "source": [
    "# generate training and validation set containing ducks\n",
    "\n",
    "normalize = transforms.Normalize(mean=[0.485, 0.456, 0.406],\n",
    "                                 std=[0.229, 0.224, 0.225])\n",
    "random_size = (50, 100)\n",
    "\n",
    "trainset = DuckDataset(background_train,\n",
    "                       random_size=random_size,\n",
    "                       transform=transforms.Compose([transforms.ToTensor(), normalize]),\n",
    "                       uniform_yellow = False\n",
    "                       )\n",
    "valset = DuckDataset(background_val,\n",
    "                     random_size=random_size,\n",
    "                     transform=transforms.Compose([transforms.ToTensor(), normalize]),\n",
    "                     uniform_yellow = False\n",
    "                     )\n",
    "\n",
    "pkl.dump(trainset, open(f'{duckdata_dir}/duck_train.pkl' , 'wb+'))\n",
    "pkl.dump(valset, open(f'{duckdata_dir}/duck_val.pkl' , 'wb+'))\n"
   ]
  },
  {
   "cell_type": "code",
   "execution_count": null,
   "id": "2b2d6a3a",
   "metadata": {},
   "outputs": [],
   "source": [
    "# generate a (reproducible) visualisation data set \n",
    "torch.manual_seed(1)\n",
    "np.random.seed(1)\n",
    "\n",
    "vis_set = DuckDataset(background_val,\n",
    "                      random_size=random_size,\n",
    "                      transform=transforms.ToTensor(),\n",
    "                      uniform_yellow = False\n",
    "                      )\n",
    "\n",
    "pkl.dump(vis_set,open(f'{duckdata_dir}/duck_vis.pkl', 'wb'))"
   ]
  },
  {
   "cell_type": "code",
   "execution_count": null,
   "id": "05f53889",
   "metadata": {
    "tags": []
   },
   "outputs": [],
   "source": [
    "# extract images containing a duck\n",
    "\n",
    "imgs, labels, duck_positions, masks = [], [], [], []\n",
    "for _ in range(200):\n",
    "    img, label, duck_position, bgr = vis_set.__draw_random__()\n",
    "    if label == 0:\n",
    "        continue\n",
    "        \n",
    "    mask = img - bgr\n",
    "    mask[mask != 0] = 1\n",
    "    mask = mask.sum(axis = 0)\n",
    "    mask[mask != 0] = 1\n",
    "    \n",
    "    imgs.append(img)\n",
    "    labels.append(label)\n",
    "    duck_positions.append(duck_position)\n",
    "    masks.append(mask)\n",
    "    \n",
    "    examples = (imgs, labels, duck_positions, masks)\n",
    "pkl.dump(examples,open(f'{duckdata_dir}/duck_vis_examples.pkl', 'wb'))"
   ]
  }
 ],
 "metadata": {
  "kernelspec": {
   "display_name": "Python 3",
   "language": "python",
   "name": "python3"
  },
  "language_info": {
   "codemirror_mode": {
    "name": "ipython",
    "version": 3
   },
   "file_extension": ".py",
   "mimetype": "text/x-python",
   "name": "python",
   "nbconvert_exporter": "python",
   "pygments_lexer": "ipython3",
   "version": "3.7.3"
  }
 },
 "nbformat": 4,
 "nbformat_minor": 5
}
