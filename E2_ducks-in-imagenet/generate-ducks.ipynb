{
 "cells": [
  {
   "cell_type": "markdown",
   "id": "274be213",
   "metadata": {},
   "source": [
    "# Set up"
   ]
  },
  {
   "cell_type": "code",
   "execution_count": 1,
   "id": "f2c4838e",
   "metadata": {},
   "outputs": [
    {
     "name": "stderr",
     "output_type": "stream",
     "text": [
      "Matplotlib created a temporary config/cache directory at /tmp/matplotlib-ei6ker7m because the default path (/home/jovyan/.cache/matplotlib) is not a writable directory; it is highly recommended to set the MPLCONFIGDIR environment variable to a writable directory, in particular to speed up the import of Matplotlib and to better support multiprocessing.\n"
     ]
    }
   ],
   "source": [
    "import torch\n",
    "import torchvision.transforms as transforms\n",
    "from torch.utils.data import DataLoader\n",
    "import torchvision.datasets as datasets\n",
    "import torchvision.models as models\n",
    "from torch import nn\n",
    "from torch import optim\n",
    "\n",
    "from tqdm import tqdm\n",
    "import os\n",
    "import numpy as np\n",
    "from PIL import Image\n",
    "import pickle as pkl\n",
    "import matplotlib.pyplot as plt\n",
    "\n",
    "import util\n",
    "from DuckDataset import DuckDataset\n",
    "\n",
    "%load_ext autoreload\n",
    "%autoreload 2"
   ]
  },
  {
   "cell_type": "code",
   "execution_count": 2,
   "id": "1c1d6401",
   "metadata": {},
   "outputs": [
    {
     "name": "stdout",
     "output_type": "stream",
     "text": [
      "cuda\n"
     ]
    }
   ],
   "source": [
    "device = torch.device('cuda' if torch.cuda.is_available() else 'cpu')\n",
    "print(device)"
   ]
  },
  {
   "cell_type": "code",
   "execution_count": 3,
   "id": "a030566b",
   "metadata": {},
   "outputs": [],
   "source": [
    "# set this accordingly\n",
    "imagenettrain_dir = '/mnt/qb/datasets/ImageNet2012/train/'\n",
    "imagenetval_dir = '/mnt/qb/datasets/ImageNet2012/val/'\n",
    "duckdata_dir = '/mnt/qb/luxburg/fgoeppert26'"
   ]
  },
  {
   "cell_type": "markdown",
   "id": "265b93fa",
   "metadata": {},
   "source": [
    "# Store a subset of imagenet images as background images"
   ]
  },
  {
   "cell_type": "raw",
   "id": "75012aad",
   "metadata": {},
   "source": [
    "# subset of classes\n",
    "folders = []\n",
    "for folder in os.listdir(imagenettrain_dir):\n",
    "    folders.append(folder)\n",
    "folders.sort()\n",
    "np.random.seed(0)\n",
    "folders = np.random.choice(folders, size=10, replace=False)\n",
    "\n",
    "# train\n",
    "images = []\n",
    "for folder in folders:\n",
    "    for file in os.listdir(os.path.join(imagenettrain_dir, folder)):\n",
    "        images.append(os.path.join(imagenettrain_dir, folder, file))  \n",
    "pil_images = []\n",
    "for image in tqdm(images):\n",
    "    im = Image.open(image)\n",
    "    im.load()\n",
    "    pil_images.append(im)\n",
    "pil_images = [img.convert('RGB') for img in pil_images]\n",
    "pkl.dump(pil_images, open(f'{duckdata_dir}/imagenet10_train.pkl' , 'wb+'))\n",
    "\n",
    "# val\n",
    "images = []\n",
    "for folder in folders:\n",
    "    for file in os.listdir(os.path.join(imagenetval_dir, folder)):\n",
    "        images.append(os.path.join(imagenetval_dir, folder, file))  \n",
    "pil_images = []\n",
    "for image in tqdm(images):\n",
    "    im = Image.open(image)\n",
    "    im.load()\n",
    "    pil_images.append(im)\n",
    "pil_images = [img.convert('RGB') for img in pil_images]\n",
    "pkl.dump(pil_images, open(f'{duckdata_dir}/imagenet10_val.pkl' , 'wb+'))"
   ]
  },
  {
   "cell_type": "code",
   "execution_count": 4,
   "id": "d6991d24",
   "metadata": {},
   "outputs": [],
   "source": [
    "# dataset for the background images\n",
    "class ImageDataset(torch.utils.data.Dataset):\n",
    "    def __init__(self, \n",
    "                 images, \n",
    "                 transform = None,\n",
    "            ):\n",
    "            super(ImageDataset, self).__init__()\n",
    "            self.images = images\n",
    "            self.transform = transform    \n",
    "\n",
    "    def __getitem__(self, index):\n",
    "        assert index < len(self.images), 'Invalid index!'\n",
    "        # get the image\n",
    "        img = self.images[index]\n",
    "        # apply transform\n",
    "        if self.transform is not None:\n",
    "            img = self.transform(img)\n",
    "        return img, 0\n",
    "            \n",
    "    def __len__(self):\n",
    "        return len(self.images)"
   ]
  },
  {
   "cell_type": "code",
   "execution_count": 5,
   "id": "db834883",
   "metadata": {},
   "outputs": [],
   "source": [
    "# load background images\n",
    "\n",
    "duckdata_dir = '/mnt/qb/luxburg/frieder' # set this accordingly\n",
    "\n",
    "train_images = pkl.load(open(f'{duckdata_dir}/imagenet10_train.pkl' , 'rb'))\n",
    "val_images = pkl.load(open(f'{duckdata_dir}/imagenet10_val.pkl', 'rb'))\n",
    "\n",
    "background_train = ImageDataset(train_images, transform=transforms.Compose([transforms.RandomResizedCrop(224), \n",
    "                                                                            transforms.RandomHorizontalFlip()]))\n",
    "background_val = ImageDataset(val_images, transform=transforms.Compose([transforms.RandomResizedCrop(224),\n",
    "                                                                        transforms.RandomHorizontalFlip()])) \n"
   ]
  },
  {
   "cell_type": "markdown",
   "id": "386d4381",
   "metadata": {},
   "source": [
    "# Generate Duck Datasets "
   ]
  },
  {
   "cell_type": "code",
   "execution_count": 6,
   "id": "c393a665",
   "metadata": {},
   "outputs": [],
   "source": [
    "# generate training and validation set\n",
    "\n",
    "duckdata_dir = '/mnt/qb/luxburg/fgoeppert26' # set this accordingly\n",
    "\n",
    "normalize = transforms.Normalize(mean=[0.485, 0.456, 0.406],\n",
    "                                 std=[0.229, 0.224, 0.225])\n",
    "random_size = (50, 100)\n",
    "\n",
    "trainset = DuckDataset(background_train,\n",
    "                       random_size=random_size,\n",
    "                       transform=transforms.Compose([transforms.ToTensor(), normalize]),\n",
    "                       uniform_yellow = False\n",
    "                       )\n",
    "valset = DuckDataset(background_val,\n",
    "                     random_size=random_size,\n",
    "                     transform=transforms.Compose([transforms.ToTensor(), normalize]),\n",
    "                     uniform_yellow = False\n",
    "                     )\n",
    "\n",
    "pkl.dump(trainset, open(f'{duckdata_dir}/duck_train.pkl' , 'wb+'))\n",
    "pkl.dump(valset, open(f'{duckdata_dir}/duck_val.pkl' , 'wb+'))\n"
   ]
  },
  {
   "cell_type": "code",
   "execution_count": 7,
   "id": "76e97a03",
   "metadata": {},
   "outputs": [],
   "source": [
    "# generate a (reproducible) visualisation data set \n",
    "torch.manual_seed(1)\n",
    "np.random.seed(1)\n",
    "\n",
    "vis_set = DuckDataset(background_val,\n",
    "                      random_size=random_size,\n",
    "                      transform=transforms.ToTensor(),\n",
    "                      uniform_yellow = False\n",
    "                      )\n",
    "\n",
    "pkl.dump(vis_set,open(f'{duckdata_dir}/duck_vis.pkl', 'wb'))"
   ]
  },
  {
   "cell_type": "code",
   "execution_count": 8,
   "id": "b59fbb9c",
   "metadata": {
    "tags": []
   },
   "outputs": [],
   "source": [
    "# extract some images containing a duck\n",
    "\n",
    "imgs, labels, duck_positions, masks = [], [], [], []\n",
    "for _ in range(200):\n",
    "    img, label, duck_position, bgr = vis_set.__draw_random__()\n",
    "    if label == 0:\n",
    "        continue\n",
    "        \n",
    "    mask = img - bgr\n",
    "    mask[mask != 0] = 1\n",
    "    mask = mask.sum(axis = 0)\n",
    "    mask[mask != 0] = 1\n",
    "    \n",
    "    imgs.append(img)\n",
    "    labels.append(label)\n",
    "    duck_positions.append(duck_position)\n",
    "    masks.append(mask)\n",
    "    \n",
    "examples = (imgs[:25], labels[:25], duck_positions[:25], masks[:25])\n",
    "pkl.dump(examples,open(f'data/duck_vis_examples.pkl', 'wb'))"
   ]
  }
 ],
 "metadata": {
  "kernelspec": {
   "display_name": "Python 3",
   "language": "python",
   "name": "python3"
  },
  "language_info": {
   "codemirror_mode": {
    "name": "ipython",
    "version": 3
   },
   "file_extension": ".py",
   "mimetype": "text/x-python",
   "name": "python",
   "nbconvert_exporter": "python",
   "pygments_lexer": "ipython3",
   "version": "3.8.8"
  }
 },
 "nbformat": 4,
 "nbformat_minor": 5
}
