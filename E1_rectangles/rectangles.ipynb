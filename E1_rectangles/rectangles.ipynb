{
 "cells": [
  {
   "cell_type": "markdown",
   "metadata": {},
   "source": [
    "# Set up"
   ]
  },
  {
   "cell_type": "code",
   "execution_count": 9,
   "metadata": {},
   "outputs": [],
   "source": [
    "import numpy as np\n",
    "import matplotlib.pyplot as plt\n",
    "import itertools\n",
    "import pickle\n",
    "from tqdm import tqdm\n",
    "import captum.attr \n",
    "from scipy import ndimage\n",
    "import torch\n",
    "import torch.nn as nn \n",
    "import torch.utils.data as data"
   ]
  },
  {
   "cell_type": "markdown",
   "metadata": {},
   "source": [
    "# Generate Data"
   ]
  },
  {
   "cell_type": "code",
   "execution_count": 10,
   "metadata": {},
   "outputs": [
    {
     "name": "stdout",
     "output_type": "stream",
     "text": [
      "[0 1 1 1]\n"
     ]
    }
   ],
   "source": [
    "# generate formulae of dimension d with signal dimension s \n",
    "def generate_formulae(d,s):\n",
    "    X = np.array(np.meshgrid( *[[0, 1]]*d )).T.reshape(-1,d)\n",
    "\n",
    "    Y = np.array(np.meshgrid( *[[0, 1]]*(2**s) )).T.reshape(-1,2**s)\n",
    "    Y = np.hstack([Y]*(2**(d-s)))\n",
    "    return X,Y\n",
    "\n",
    "d = 4\n",
    "s = 2\n",
    "X,Y = generate_formulae(4,2)\n",
    "print(Y[13,0:2**s]) # or formula "
   ]
  },
  {
   "cell_type": "code",
   "execution_count": 11,
   "metadata": {},
   "outputs": [
    {
     "data": {
      "text/plain": [
       "array([[0., 0., 0., 0., 0., 0., 0., 0.],\n",
       "       [0., 0., 0., 0., 0., 0., 0., 0.],\n",
       "       [0., 0., 1., 1., 1., 1., 0., 0.],\n",
       "       [0., 0., 1., 1., 1., 1., 0., 0.],\n",
       "       [0., 0., 1., 1., 1., 1., 0., 0.],\n",
       "       [0., 0., 1., 1., 1., 1., 0., 0.],\n",
       "       [0., 0., 0., 0., 0., 0., 0., 0.],\n",
       "       [0., 0., 0., 0., 0., 0., 0., 0.]])"
      ]
     },
     "execution_count": 11,
     "metadata": {},
     "output_type": "execute_result"
    }
   ],
   "source": [
    "# binary variable to rectangle in tile, 1: vertical, 0: horizontal (if zero = 1) else absent\n",
    "def x_to_tile(x, n = 8, h = 4 , w = 4,  padding = 1, position = 'center', zero = 0):\n",
    "    \n",
    "    if position == 'random':\n",
    "        s_y = np.random.randint(n-h-padding*2+1)+padding\n",
    "        s_x = np.random.randint(n-w-padding*2+1)+padding\n",
    "    else: \n",
    "        s_y = (n-h)//2\n",
    "        s_x = (n-w)//2\n",
    "\n",
    "    tile = np.zeros([n,n])\n",
    "    if x == 1: \n",
    "        tile[s_y:s_y+h, s_x:s_x+w] = 1\n",
    "    else: \n",
    "        tile[s_x:s_x+w, s_y:s_y+h] = zero\n",
    "    return tile\n",
    "\n",
    "x_to_tile(1,position = 'center')"
   ]
  },
  {
   "cell_type": "code",
   "execution_count": 12,
   "metadata": {},
   "outputs": [
    {
     "data": {
      "image/png": "[encoded data removed]",
      "text/plain": [
       "<Figure size 432x432 with 1 Axes>"
      ]
     },
     "metadata": {
      "needs_background": "light"
     },
     "output_type": "display_data"
    }
   ],
   "source": [
    "# binary data to image of tiles \n",
    "def X_to_image(X, r = 2, c = 2, position = 'center', zero = 0, p_noise = 0.4, sigma_smooth = 0.8):\n",
    "    \n",
    "    for i in range(r):\n",
    "        a = [x_to_tile(X[i*c+j], position = position, zero = zero) for j in range(c)]\n",
    "        b = np.hstack(a)\n",
    "        if i == 0: \n",
    "            signal = np.array([]).reshape(0,b.shape[1])\n",
    "        signal = np.vstack([signal,b])\n",
    "    \n",
    "    #noise = np.random.uniform(0,p_noise,signal.shape)\n",
    "    noise = np.random.uniform(0,p_noise,signal.shape)\n",
    "    smooth_noise = ndimage.gaussian_filter(noise, sigma = sigma_smooth)\n",
    "    im = signal*(1-p_noise) + smooth_noise\n",
    "    #im = signal + smooth_noise\n",
    "    \n",
    "    return im\n",
    "\n",
    "fig = plt.figure(figsize=(6, 6))\n",
    "plt.imshow(X_to_image(X[5]),cmap = 'Greys',vmin = 0, vmax = 1)\n",
    "plt.axis('off')\n",
    "plt.savefig('figures/rectangles0110.pdf')"
   ]
  },
  {
   "cell_type": "code",
   "execution_count": 13,
   "metadata": {},
   "outputs": [
    {
     "data": {
      "image/png": "[encoded data removed]",
      "text/plain": [
       "<Figure size 864x864 with 16 Axes>"
      ]
     },
     "metadata": {
      "needs_background": "light"
     },
     "output_type": "display_data"
    }
   ],
   "source": [
    "# show all \n",
    "\n",
    "I = np.array([X_to_image(X[i]) for i in range(X.shape[0])])\n",
    "\n",
    "fig = plt.figure(figsize=(12, 12))\n",
    "c = 4\n",
    "r = 4\n",
    "for i in range(1, c*r + 1 ):\n",
    "    img = I[i-1]\n",
    "    fig.add_subplot(r, c, i)\n",
    "    plt.imshow(img,cmap = 'Greys',vmin = 0, vmax = 1)\n",
    "    plt.axis('off')\n",
    "plt.show()"
   ]
  },
  {
   "cell_type": "markdown",
   "metadata": {},
   "source": [
    "# Train and explain models"
   ]
  },
  {
   "cell_type": "code",
   "execution_count": 14,
   "metadata": {},
   "outputs": [],
   "source": [
    "def FCN(input_size,hidden_sizes,output_size):\n",
    "    seq = []\n",
    "    seq.append(torch.nn.Linear(input_size, hidden_sizes[0]))\n",
    "    seq.append(torch.nn.ReLU())\n",
    "    \n",
    "    for i in range(len(hidden_sizes)-1):\n",
    "        seq.append(torch.nn.Linear(hidden_sizes[i], hidden_sizes[i+1]))\n",
    "        seq.append(torch.nn.ReLU())\n",
    "        \n",
    "    seq.append(torch.nn.Linear(hidden_sizes[-1], output_size),)\n",
    "        \n",
    "    return torch.nn.Sequential(*seq)\n",
    "\n",
    "def train_loop(dataloader, model, loss_fn, optimizer, verbose = True):\n",
    "    size = len(dataloader.dataset)\n",
    "    for batch, (X, y) in enumerate(dataloader):\n",
    "        # compute prediction and loss\n",
    "        pred = model(X)\n",
    "        loss = loss_fn(pred, y)\n",
    "        \n",
    "        # backpropagation\n",
    "        optimizer.zero_grad()\n",
    "        loss.backward()\n",
    "        optimizer.step()\n",
    "\n",
    "        if batch % 100 == 0:\n",
    "            loss, current = loss.item(), batch * len(X)\n",
    "            if verbose:\n",
    "                print(f\"loss: {loss:>7f}  [{current:>5d}/{size:>5d}]\")\n",
    "   \n",
    "\n",
    "def test_loop(dataloader, model, loss_fn,verbose = True):\n",
    "    size = len(dataloader.dataset)\n",
    "    num_batches = len(dataloader)\n",
    "    test_loss, correct = 0, 0\n",
    "\n",
    "    with torch.no_grad():\n",
    "        for X, y in dataloader:\n",
    "            pred = model(X)\n",
    "            test_loss += loss_fn(pred, y).item()\n",
    "            correct += (pred.argmax(1) == y).type(torch.float).sum().item()\n",
    "\n",
    "    test_loss /= num_batches\n",
    "    correct /= size\n",
    "    \n",
    "    if verbose:\n",
    "        print(f\"Test Error: \\n Accuracy: {(100*correct):>0.1f}%, Avg loss: {test_loss:>8f} \\n\")\n",
    "        \n",
    "    return correct "
   ]
  },
  {
   "cell_type": "code",
   "execution_count": 34,
   "metadata": {},
   "outputs": [],
   "source": [
    "# training and evaluation loop \n",
    "\n",
    "p_noise = 0.4\n",
    "examples = np.array([X_to_image(X[i],p_noise = p_noise) for i in range(X.shape[0])])\n",
    "\n",
    "def generate_explanations(X,y,rep_train,rep_test,n_models,data_use,n_epochs,explanation_methods,verbose):\n",
    "    \n",
    "    # dict for explanation/attributions \n",
    "    attributions = {}\n",
    "    for key in explanation_methods:\n",
    "        attributions[key] = []\n",
    "    \n",
    "    rep = rep_train + rep_test\n",
    "    if data_use == 'id': \n",
    "        imgs = [X_to_image(X[i],p_noise = p_noise) for j in range(rep) for i in range(X.shape[0])]\n",
    "    \n",
    "    examples_ = torch.tensor(examples).view(-1,examples.shape[1]**2).float()\n",
    "    \n",
    "    for i in tqdm(range(n_models)):\n",
    "\n",
    "        # create data \n",
    "        if data_use == 'iid':\n",
    "            imgs = [X_to_image(X[i],p_noise = p_noise) for j in range(rep) for i in range(X.shape[0])]\n",
    "        I = np.array(imgs) \n",
    "\n",
    "        X_train = torch.tensor(I[rep_test*X.shape[0]:]).view(-1,I.shape[1]**2).float()\n",
    "        Y_train = torch.tensor(np.hstack([y]*rep_train))\n",
    "\n",
    "        X_test = torch.tensor(I[:rep_test*X.shape[0]]).view(-1,I.shape[1]**2).float()\n",
    "        Y_test = torch.tensor(np.hstack([y]*rep_test))\n",
    "\n",
    "        train_dataloader = data.DataLoader(data.TensorDataset(X_train, Y_train),batch_size=100, shuffle = True,num_workers=1 )\n",
    "        test_dataloader = data.DataLoader(data.TensorDataset(X_test, Y_test),batch_size=rep_test*X.shape[0], shuffle = False,num_workers=1 )\n",
    "\n",
    "        # train model \n",
    "\n",
    "        model = FCN(X_train.shape[1], [X_train.shape[1]*2, 100,100,100],2)\n",
    "        \n",
    "        learning_rate = 1e-3\n",
    "        batch_size = 100\n",
    "    \n",
    "        loss_fn = nn.CrossEntropyLoss() \n",
    "        optimizer = torch.optim.Adam(model.parameters(), lr=learning_rate)\n",
    "\n",
    "        if n_epochs == 'min_generalize':\n",
    "            max_epochs = 100\n",
    "        else: \n",
    "            max_epochs = n_epochs\n",
    "\n",
    "        for t in range(max_epochs):\n",
    "            if verbose: \n",
    "                print(f\"Epoch {t+1}\\n\")\n",
    "            acc_train = train_loop(train_dataloader, model, loss_fn, optimizer, verbose)\n",
    "            acc_test = test_loop(test_dataloader, model, loss_fn, verbose)\n",
    "\n",
    "            if n_epochs == 'min_generalize' and acc_test == 1:\n",
    "                break\n",
    "\n",
    "        # explain model for examples\n",
    "\n",
    "        targets = model(examples_).argmax(1)\n",
    "    \n",
    "\n",
    "        for key, val in explanation_methods.items():\n",
    "            meth = val(model)\n",
    "            if key == 'gradient':\n",
    "                attr = meth.attribute(examples_, target = targets, abs = False)\n",
    "            if key == 'integrated gradients':    \n",
    "                baselines = torch.zeros(examples_[0:1].shape)\n",
    "                attr = meth.attribute(examples_, baselines = baselines, target = targets, n_steps = 50)\n",
    "            if key == 'gradient shap':\n",
    "                baselines = torch.mean(examples_, dim = 0, keepdims = True)\n",
    "                attr = meth.attribute(examples_, baselines = baselines, target = targets, n_samples = 50)\n",
    "            else:\n",
    "                attr = meth.attribute(examples_, target = targets) \n",
    "\n",
    "            attributions[key].append(attr.cpu().detach().numpy())\n",
    "\n",
    "        #print(f\"Model {i+1}/{n_models} - Done!\")\n",
    "    return attributions\n",
    "\n",
    "\n",
    "methods = {'gradient': captum.attr.Saliency, \n",
    "           'gradient x input': captum.attr.InputXGradient,\n",
    "           'guided backprop': captum.attr.GuidedBackprop,\n",
    "           'integrated gradients' : captum.attr.IntegratedGradients,\n",
    "           'gradient shap': captum.attr.GradientShap,\n",
    "           #'deeplift': captum.attr.DeepLift,\n",
    "           #'dls': captum.attr.DeepLiftShap\n",
    "           }"
   ]
  },
  {
   "cell_type": "code",
   "execution_count": 20,
   "metadata": {},
   "outputs": [
    {
     "name": "stderr",
     "output_type": "stream",
     "text": [
      "100%|██████████| 25/25 [00:12<00:00,  2.04it/s]\n",
      "100%|██████████| 25/25 [00:17<00:00,  1.39it/s]\n",
      "100%|██████████| 25/25 [00:37<00:00,  1.52s/it]\n",
      "100%|██████████| 25/25 [00:22<00:00,  1.14it/s]\n"
     ]
    }
   ],
   "source": [
    "# attributions for different settings\n",
    "attributions = generate_explanations(X,Y[13],\n",
    "                                     rep_train = 100,\n",
    "                                     rep_test = 10,\n",
    "                                     n_models = 25, \n",
    "                                     data_use = 'id', \n",
    "                                     n_epochs = 'min_generalize', \n",
    "                                     explanation_methods = methods,\n",
    "                                     verbose = False)\n",
    "\n",
    "attributions_iid = generate_explanations(X,Y[13],\n",
    "                                     rep_train = 100,\n",
    "                                     rep_test = 10,\n",
    "                                     n_models = 25, \n",
    "                                     data_use = 'iid', \n",
    "                                     n_epochs = 'min_generalize', \n",
    "                                     explanation_methods = methods,\n",
    "                                     verbose = False)\n",
    "\n",
    "attributions_long = generate_explanations(X,Y[13],\n",
    "                                     rep_train = 100,\n",
    "                                     rep_test = 10,\n",
    "                                     n_models = 25, \n",
    "                                     data_use = 'id', \n",
    "                                     n_epochs = 10, \n",
    "                                     explanation_methods = methods,\n",
    "                                     verbose = False)\n",
    "\n",
    "attributions_large = generate_explanations(X,Y[13],\n",
    "                                     rep_train = 1000,\n",
    "                                     rep_test = 10,\n",
    "                                     n_models = 25, \n",
    "                                     data_use = 'id', \n",
    "                                     n_epochs = 'min_generalize', \n",
    "                                     explanation_methods = methods,\n",
    "                                     verbose = False)"
   ]
  },
  {
   "cell_type": "markdown",
   "metadata": {},
   "source": [
    "# Plot Explanations"
   ]
  },
  {
   "cell_type": "code",
   "execution_count": 32,
   "metadata": {},
   "outputs": [],
   "source": [
    "# plot\n",
    "\n",
    "def plot_attributions(attributions, examples,i,name):\n",
    "    new_labels= {'gradient':'gradient',\n",
    "                 'gradient x input': 'gradient \\nx input', \n",
    "                 'guided backprop': 'guided \\nbackprop', \n",
    "                 'integrated gradients':'integrated \\ngradients',\n",
    "                 'gradient shap':'gradient \\nshap'}\n",
    "\n",
    "    N = [0,1,2,range(5),range(25)]\n",
    "    k = len(attributions)\n",
    "    s = 4\n",
    "    #fig = plt.figure()\n",
    "    \n",
    "    img = examples[i]\n",
    "\n",
    "    fig, axs = plt.subplots(k+1,len(N)+1,figsize=(15,15))\n",
    "\n",
    "    axs[0,0].imshow(img, cmap = 'Greys',vmin = 0, vmax = 1)\n",
    "    axs[0,0].set_title('input',fontsize = 16)\n",
    "    #plt.colorbar(im,ax=axs[0,0])\n",
    "\n",
    "\n",
    "    for ax in axs.flat:\n",
    "        ax.axis('off') \n",
    "\n",
    "    r = 1\n",
    "    for l,a in attributions.items():  \n",
    "\n",
    "        a = np.array(a)[:,i]\n",
    "\n",
    "        c = 1\n",
    "        for n in N:\n",
    "            if c == 1:\n",
    "               axs[r,c].text(-18,8,new_labels[l],fontsize = 16)\n",
    "\n",
    "            if type(n) == range:\n",
    "                img = np.mean(a[n], axis = 0)\n",
    "            else:\n",
    "                img = a[n]\n",
    "\n",
    "            img = img.reshape(examples.shape[1],examples.shape[1])\n",
    "\n",
    "            axs[r,c].imshow(img,cmap = 'viridis')#, vmin=0 , vmax = 1)\n",
    "            if r == 1:\n",
    "                if type(n) == range:\n",
    "                    txt = f'N={n[-1]+1}'\n",
    "                else:\n",
    "                    txt = f'i={n+1}'\n",
    "                axs[r,c].set_title(txt,fontsize = 16)\n",
    "            c +=1\n",
    "\n",
    "        r += 1\n",
    "\n",
    "    plt.savefig(f'figures/{name}_{i}.pdf',bbox_inches='tight',pad_inches=0)\n",
    "    plt.show()"
   ]
  },
  {
   "cell_type": "code",
   "execution_count": 42,
   "metadata": {},
   "outputs": [
    {
     "data": {
      "image/png": "[encoded data removed]",
      "text/plain": [
       "<Figure size 1080x1080 with 36 Axes>"
      ]
     },
     "metadata": {
      "needs_background": "light"
     },
     "output_type": "display_data"
    }
   ],
   "source": [
    "plot_attributions(attributions,examples,3,'attributions')"
   ]
  }
 ],
 "metadata": {
  "kernelspec": {
   "display_name": "Python 3",
   "language": "python",
   "name": "python3"
  },
  "language_info": {
   "codemirror_mode": {
    "name": "ipython",
    "version": 3
   },
   "file_extension": ".py",
   "mimetype": "text/x-python",
   "name": "python",
   "nbconvert_exporter": "python",
   "pygments_lexer": "ipython3",
   "version": "3.7.3"
  }
 },
 "nbformat": 4,
 "nbformat_minor": 2
}
